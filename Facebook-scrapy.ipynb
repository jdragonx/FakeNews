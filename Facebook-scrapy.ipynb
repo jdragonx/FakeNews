{
 "cells": [
  {
   "cell_type": "code",
   "execution_count": 1,
   "id": "arranged-wilderness",
   "metadata": {},
   "outputs": [],
   "source": [
    "import pandas as pd\n",
    "import re\n",
    "\n",
    "from facebook_scraper import get_posts"
   ]
  },
  {
   "cell_type": "code",
   "execution_count": 2,
   "id": "nearby-maine",
   "metadata": {},
   "outputs": [],
   "source": [
    "news_Uninverso = list()\n",
    "for post in get_posts('DiarioUninverso', pages=5000):\n",
    "    if(len(post['text']) >= 10):\n",
    "        news_Uninverso.append([post['text'],post['time'].timestamp(),post['image'],post['likes'],post['comments'],post['shares']])"
   ]
  },
  {
   "cell_type": "code",
   "execution_count": 3,
   "id": "angry-swift",
   "metadata": {},
   "outputs": [],
   "source": [
    "news_Uninverso = pd.DataFrame(news_Uninverso)\n",
    "news_Uninverso.columns = ['text','time','image_url','likes','comments','shares']\n",
    "news_Uninverso.to_csv('news_Uninverso.csv',index=False,chunksize=1000)"
   ]
  },
  {
   "cell_type": "code",
   "execution_count": 4,
   "id": "lonely-water",
   "metadata": {},
   "outputs": [],
   "source": [
    "news_Culimercio = list()\n",
    "for post in get_posts('elculimercioec', pages=5000):\n",
    "    if(len(post['text']) >= 10):\n",
    "        news_Culimercio.append([re.split('(#[^ ]+ ?l? )?(.+)',post['text'].replace('\\n',' '))[-2],post['time'].timestamp(),\n",
    "                                post['image'],post['likes'],post['comments'],post['shares']])"
   ]
  },
  {
   "cell_type": "code",
   "execution_count": 5,
   "id": "ancient-abortion",
   "metadata": {},
   "outputs": [],
   "source": [
    "news_Culimercio = pd.DataFrame(news_Culimercio)\n",
    "news_Culimercio.columns = ['text','time','image_url','likes','comments','shares']\n",
    "news_Culimercio.to_csv('news_Culimercio.csv',index=False,chunksize=1000)"
   ]
  }
 ],
 "metadata": {
  "kernelspec": {
   "display_name": "Python 3",
   "language": "python",
   "name": "python3"
  },
  "language_info": {
   "codemirror_mode": {
    "name": "ipython",
    "version": 3
   },
   "file_extension": ".py",
   "mimetype": "text/x-python",
   "name": "python",
   "nbconvert_exporter": "python",
   "pygments_lexer": "ipython3",
   "version": "3.7.6"
  }
 },
 "nbformat": 4,
 "nbformat_minor": 5
}
