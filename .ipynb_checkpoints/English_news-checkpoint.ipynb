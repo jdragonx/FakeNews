{
 "cells": [
  {
   "cell_type": "code",
   "execution_count": 22,
   "id": "instrumental-virus",
   "metadata": {},
   "outputs": [],
   "source": [
    "import pandas as pd\n",
    "import tensorflow.keras as keras\n",
    "import numpy as np\n",
    "\n",
    "from tensorflow.keras import Sequential\n",
    "from tensorflow.keras.preprocessing.text import Tokenizer\n",
    "from tensorflow.keras.preprocessing.sequence import pad_sequences"
   ]
  },
  {
   "cell_type": "code",
   "execution_count": 31,
   "id": "committed-yeast",
   "metadata": {},
   "outputs": [],
   "source": [
    "model = Sequential()"
   ]
  },
  {
   "cell_type": "code",
   "execution_count": 32,
   "id": "separate-suspension",
   "metadata": {},
   "outputs": [],
   "source": [
    "model.add(keras.layers.Embedding(1000,100,input_shape=(1000,)))"
   ]
  },
  {
   "cell_type": "code",
   "execution_count": 33,
   "id": "loaded-maximum",
   "metadata": {},
   "outputs": [],
   "source": [
    "model.add(keras.layers.LSTM(100, dropout=0.2, recurrent_dropout=0.2))"
   ]
  },
  {
   "cell_type": "code",
   "execution_count": 34,
   "id": "minute-impression",
   "metadata": {},
   "outputs": [],
   "source": [
    "model.add(keras.layers.Dense(1, activation='sigmoid', name=\"comentario_out\"))"
   ]
  },
  {
   "cell_type": "code",
   "execution_count": 35,
   "id": "stone-communication",
   "metadata": {},
   "outputs": [],
   "source": [
    "model.compile(loss='mse',optimizer='nadam', metrics=['accuracy'])"
   ]
  },
  {
   "cell_type": "code",
   "execution_count": 14,
   "id": "complimentary-recommendation",
   "metadata": {},
   "outputs": [],
   "source": [
    "df = pd.read_csv('news_Uninverso.csv')"
   ]
  },
  {
   "cell_type": "code",
   "execution_count": 26,
   "id": "opposed-spectrum",
   "metadata": {},
   "outputs": [],
   "source": [
    "resp = np.random.randint(0,2,457).reshape(-1,1)"
   ]
  },
  {
   "cell_type": "code",
   "execution_count": 28,
   "id": "juvenile-harvard",
   "metadata": {},
   "outputs": [],
   "source": [
    "MAX_NB_WORDS = 1000\n",
    "MAX_SEQUENCE_LENGTH =1000\n",
    "EMBEDDING_DIM = 100\n",
    "\n",
    "tokenizer = Tokenizer(num_words=MAX_NB_WORDS, filters='!\"#$%&()*+,-./:;<=>?@[\\]^_`{|}~', lower=True)\n",
    "tokenizer.fit_on_texts(df.text.str.lower().values)\n",
    "word_index = tokenizer.word_index"
   ]
  },
  {
   "cell_type": "code",
   "execution_count": 29,
   "id": "smooth-instrumentation",
   "metadata": {},
   "outputs": [],
   "source": [
    "df_com = tokenizer.texts_to_sequences(df.text.str.lower().values)\n",
    "df_com = pad_sequences(df_com, maxlen=MAX_SEQUENCE_LENGTH)"
   ]
  },
  {
   "cell_type": "code",
   "execution_count": null,
   "id": "daily-isaac",
   "metadata": {},
   "outputs": [
    {
     "name": "stdout",
     "output_type": "stream",
     "text": [
      "Train on 457 samples\n",
      "Epoch 1/100\n",
      "457/457 [==============================] - 8s 18ms/sample - loss: 0.2484 - accuracy: 0.5449\n",
      "Epoch 2/100\n",
      "457/457 [==============================] - 8s 18ms/sample - loss: 0.2466 - accuracy: 0.5427\n",
      "Epoch 3/100\n",
      "457/457 [==============================] - 9s 19ms/sample - loss: 0.2432 - accuracy: 0.5427\n",
      "Epoch 4/100\n",
      "457/457 [==============================] - 9s 19ms/sample - loss: 0.2371 - accuracy: 0.5492\n",
      "Epoch 5/100\n",
      "457/457 [==============================] - 9s 19ms/sample - loss: 0.2263 - accuracy: 0.6302\n",
      "Epoch 6/100\n",
      "457/457 [==============================] - 9s 19ms/sample - loss: 0.1998 - accuracy: 0.7746\n",
      "Epoch 7/100\n",
      "457/457 [==============================] - 9s 19ms/sample - loss: 0.1818 - accuracy: 0.8293\n",
      "Epoch 8/100\n",
      "457/457 [==============================] - 9s 19ms/sample - loss: 0.1531 - accuracy: 0.8468\n",
      "Epoch 9/100\n",
      "457/457 [==============================] - 9s 19ms/sample - loss: 0.1348 - accuracy: 0.8687\n",
      "Epoch 10/100\n",
      "457/457 [==============================] - 8s 18ms/sample - loss: 0.1670 - accuracy: 0.8053\n",
      "Epoch 11/100\n",
      "457/457 [==============================] - 8s 18ms/sample - loss: 0.0987 - accuracy: 0.9037\n",
      "Epoch 12/100\n",
      "457/457 [==============================] - 8s 18ms/sample - loss: 0.1483 - accuracy: 0.8359\n",
      "Epoch 13/100\n",
      "457/457 [==============================] - 8s 18ms/sample - loss: 0.0993 - accuracy: 0.8862\n",
      "Epoch 14/100\n",
      "457/457 [==============================] - 8s 18ms/sample - loss: 0.0815 - accuracy: 0.9256\n",
      "Epoch 15/100\n",
      "457/457 [==============================] - 8s 18ms/sample - loss: 0.0722 - accuracy: 0.9168\n",
      "Epoch 16/100\n",
      "457/457 [==============================] - 8s 18ms/sample - loss: 0.0642 - accuracy: 0.9344\n",
      "Epoch 17/100\n",
      "457/457 [==============================] - 9s 19ms/sample - loss: 0.0632 - accuracy: 0.9234\n",
      "Epoch 18/100\n",
      "457/457 [==============================] - 8s 19ms/sample - loss: 0.0643 - accuracy: 0.9322\n",
      "Epoch 19/100\n",
      "457/457 [==============================] - 8s 18ms/sample - loss: 0.0597 - accuracy: 0.9322\n",
      "Epoch 20/100\n",
      "457/457 [==============================] - 9s 19ms/sample - loss: 0.0495 - accuracy: 0.9540\n",
      "Epoch 21/100\n",
      "457/457 [==============================] - 9s 19ms/sample - loss: 0.0513 - accuracy: 0.9497\n",
      "Epoch 22/100\n",
      "457/457 [==============================] - 8s 18ms/sample - loss: 0.0468 - accuracy: 0.9519\n",
      "Epoch 23/100\n",
      "457/457 [==============================] - 8s 18ms/sample - loss: 0.0444 - accuracy: 0.9584\n",
      "Epoch 24/100\n",
      "457/457 [==============================] - 8s 18ms/sample - loss: 0.0406 - accuracy: 0.9628\n",
      "Epoch 25/100\n",
      "457/457 [==============================] - 8s 19ms/sample - loss: 0.0358 - accuracy: 0.9650\n",
      "Epoch 26/100\n",
      "457/457 [==============================] - 8s 19ms/sample - loss: 0.0322 - accuracy: 0.9716\n",
      "Epoch 27/100\n",
      "457/457 [==============================] - 8s 18ms/sample - loss: 0.0255 - accuracy: 0.9759\n",
      "Epoch 28/100\n",
      "457/457 [==============================] - 8s 18ms/sample - loss: 0.0244 - accuracy: 0.9759\n",
      "Epoch 29/100\n",
      "457/457 [==============================] - 8s 18ms/sample - loss: 0.0237 - accuracy: 0.9781\n",
      "Epoch 30/100\n",
      "457/457 [==============================] - 8s 18ms/sample - loss: 0.0255 - accuracy: 0.9803\n",
      "Epoch 31/100\n",
      "457/457 [==============================] - 9s 19ms/sample - loss: 0.0322 - accuracy: 0.9672\n",
      "Epoch 32/100\n",
      "457/457 [==============================] - 9s 19ms/sample - loss: 0.0301 - accuracy: 0.9650\n",
      "Epoch 33/100\n",
      "457/457 [==============================] - 8s 18ms/sample - loss: 0.0271 - accuracy: 0.9759\n",
      "Epoch 34/100\n",
      "457/457 [==============================] - 8s 18ms/sample - loss: 0.0254 - accuracy: 0.9759\n",
      "Epoch 35/100\n",
      "457/457 [==============================] - 9s 19ms/sample - loss: 0.0263 - accuracy: 0.9737\n",
      "Epoch 36/100\n",
      "256/457 [===============>..............] - ETA: 3s - loss: 0.0141 - accuracy: 0.9883"
     ]
    }
   ],
   "source": [
    "model.fit(df_com,resp,batch_size=128,epochs=100)"
   ]
  }
 ],
 "metadata": {
  "kernelspec": {
   "display_name": "Python 3",
   "language": "python",
   "name": "python3"
  },
  "language_info": {
   "codemirror_mode": {
    "name": "ipython",
    "version": 3
   },
   "file_extension": ".py",
   "mimetype": "text/x-python",
   "name": "python",
   "nbconvert_exporter": "python",
   "pygments_lexer": "ipython3",
   "version": "3.7.6"
  }
 },
 "nbformat": 4,
 "nbformat_minor": 5
}
